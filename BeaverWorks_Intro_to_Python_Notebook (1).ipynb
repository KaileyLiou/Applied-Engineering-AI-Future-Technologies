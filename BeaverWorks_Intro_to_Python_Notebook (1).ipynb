{
 "cells": [
  {
   "cell_type": "markdown",
   "metadata": {
    "cell_id": "760466eec3984338a0c3d8e103dbf02f",
    "deepnote_cell_type": "markdown"
   },
   "source": [
    "\n",
    "# Intro to Python in Notebooks\n",
    "MIT Beaver Works Classroom Edition\n"
   ]
  },
  {
   "cell_type": "markdown",
   "metadata": {
    "cell_id": "2fb591f26d9b418fbee714249ebe287e",
    "deepnote_cell_type": "markdown"
   },
   "source": [
    "\n",
    "## Objectives\n",
    "\n",
    "1. Understand how notebook documents work and how to use code and text cells effectively.\n",
    "2. Learn Python fundamentals: variables, data types, arithmetic, strings, lists, loops, conditionals, and functions.\n",
    "3. Build a small but real project in the same notebook and export artifacts.\n",
    "4. Practice clear communication of results using Markdown and visualizations.\n"
   ]
  },
  {
   "cell_type": "markdown",
   "metadata": {
    "cell_id": "904b55ca69204096a9fea06d65e945e0",
    "deepnote_cell_type": "markdown"
   },
   "source": [
    "\n",
    "## What is a Notebook\n",
    "\n",
    "A notebook is an interactive scientific document that combines code, text, and outputs in one place. It supports incremental exploration. You can run code cells in any order, document your reasoning in Markdown cells, and preserve results for review.\n"
   ]
  },
  {
   "cell_type": "markdown",
   "metadata": {
    "cell_id": "4787438ba8d04b70b9e7589f4744ff97",
    "deepnote_cell_type": "markdown"
   },
   "source": [
    "\n",
    "## Using Cells\n",
    "\n",
    "1. Create a new cell and choose Code or Markdown from the toolbar.\n",
    "2. Write code in a Code cell and execute it.\n",
    "3. Write explanations, section headers, and instructions in Markdown cells.\n",
    "4. Rerun cells at any time to reproduce results.\n"
   ]
  },
  {
   "cell_type": "code",
   "execution_count": null,
   "metadata": {
    "cell_id": "0fabe3973c434a44be0f68f54281ad8e",
    "deepnote_cell_type": "code",
    "execution_context_id": "aa56ddcf-faa8-4e63-b586-c54e04af4329",
    "execution_millis": 4,
    "execution_start": 1760802516630,
    "source_hash": "5d9c11d6"
   },
   "outputs": [],
   "source": [
    "\n",
    "print(\"Hello from a notebook\")\n"
   ]
  },
  {
   "cell_type": "markdown",
   "metadata": {
    "cell_id": "36e5bef0aa9d47f3acb08d79146f7f6a",
    "deepnote_cell_type": "markdown"
   },
   "source": [
    "\n",
    "## Markdown Basics\n",
    "\n",
    "1. Use `#` for a top level header and `##` for a section header.\n",
    "2. Use backticks for inline code.\n",
    "3. Use triple backticks to create code blocks in Markdown when you want to show snippets without running them.\n",
    "4. Use numbered lists for step by step instructions.\n"
   ]
  },
  {
   "cell_type": "markdown",
   "metadata": {
    "cell_id": "91e2ef720ee84e81af97f8171d880898",
    "deepnote_cell_type": "markdown"
   },
   "source": [
    "\n",
    "## Python Fundamentals\n",
    "\n",
    "This section introduces the core language features used in scientific and engineering workflows.\n"
   ]
  },
  {
   "cell_type": "markdown",
   "metadata": {
    "cell_id": "916cd5e682564a5d9e17662018540fe0",
    "deepnote_cell_type": "markdown"
   },
   "source": [
    "\n",
    "### Variables and Types\n",
    "\n",
    "Python variables are created by assignment. The type is inferred at runtime.\n"
   ]
  },
  {
   "cell_type": "code",
   "execution_count": null,
   "metadata": {
    "cell_id": "eec6ac82fe104f9d8d35e4ca8bdb3f71",
    "deepnote_cell_type": "code",
    "execution_context_id": "aa56ddcf-faa8-4e63-b586-c54e04af4329",
    "execution_millis": 1,
    "execution_start": 1760802516679,
    "source_hash": "792cb30e"
   },
   "outputs": [],
   "source": [
    "\n",
    "name = \"Beaver Works Student\"\n",
    "age = 16\n",
    "height_m = 1.68\n",
    "enrolled = True\n",
    "\n",
    "print(type(name), type(age), type(height_m), type(enrolled))\n",
    "print(f\"{name} | age={age} | height_m={height_m} | enrolled={enrolled}\")\n"
   ]
  },
  {
   "cell_type": "markdown",
   "metadata": {
    "cell_id": "99192a75365e491e9003d9b7e9bcce50",
    "deepnote_cell_type": "markdown"
   },
   "source": [
    "\n",
    "### Arithmetic and Expressions\n",
    "\n",
    "Arithmetic works on numbers and variables. Parentheses control order of operations.\n"
   ]
  },
  {
   "cell_type": "code",
   "execution_count": null,
   "metadata": {
    "cell_id": "84e879049a8045858ea1843c8e865ea4",
    "deepnote_cell_type": "code",
    "execution_context_id": "aa56ddcf-faa8-4e63-b586-c54e04af4329",
    "execution_millis": 1,
    "execution_start": 1760802516739,
    "source_hash": "7bf8f884"
   },
   "outputs": [],
   "source": [
    "\n",
    "a = 12\n",
    "b = 5\n",
    "sum_val = a + b\n",
    "diff_val = a - b\n",
    "prod_val = a * b\n",
    "quot_val = a / b\n",
    "pow_val = a ** 2\n",
    "print(\"sum:\", sum_val, \"diff:\", diff_val, \"prod:\", prod_val, \"quot:\", quot_val, \"pow:\", pow_val)\n"
   ]
  },
  {
   "cell_type": "markdown",
   "metadata": {
    "cell_id": "368a4d4a66ab4ef89d2c9270864e2519",
    "deepnote_cell_type": "markdown"
   },
   "source": [
    "\n",
    "### Strings\n",
    "\n",
    "Strings represent text data. Use concatenation and formatted strings for clean output.\n"
   ]
  },
  {
   "cell_type": "code",
   "execution_count": null,
   "metadata": {
    "cell_id": "abd7f39557a84c3390f73a68a8ccfc04",
    "deepnote_cell_type": "code",
    "execution_context_id": "aa56ddcf-faa8-4e63-b586-c54e04af4329",
    "execution_millis": 1,
    "execution_start": 1760802516799,
    "source_hash": "8230b618"
   },
   "outputs": [],
   "source": [
    "\n",
    "first = \"Beaver\"\n",
    "second = \"Works\"\n",
    "combined = first + \" \" + second\n",
    "print(combined)\n",
    "\n",
    "student = \"Brianna\"\n",
    "score = 93\n",
    "print(f\"{student} scored {score}\")\n"
   ]
  },
  {
   "cell_type": "markdown",
   "metadata": {
    "cell_id": "66ef3af466854aa0b5f68696ecbbf27c",
    "deepnote_cell_type": "markdown"
   },
   "source": [
    "\n",
    "### Exercise A\n",
    "\n",
    "1. Create variables describing yourself: a string for your name, an integer for a favorite number, and a float for any measurement you choose.\n",
    "2. Print a single formatted sentence that combines them.\n",
    "3. Compute a new value that uses arithmetic on your numeric variables and print it.\n"
   ]
  },
  {
   "cell_type": "code",
   "execution_count": null,
   "metadata": {
    "cell_id": "5ef690e06ac74ce6a6730af9cd8119a9",
    "deepnote_cell_type": "code",
    "execution_context_id": "aa56ddcf-faa8-4e63-b586-c54e04af4329",
    "execution_millis": 0,
    "execution_start": 1760803311319,
    "source_hash": "85e8195c"
   },
   "outputs": [],
   "source": [
    "\n",
    "# Your work for Exercise A below. Replace the placeholders and run the cell.\n",
    "\n",
    "your_name = \"Kailey\"\n",
    "favorite_number = 7\n",
    "ratio = 3.14\n",
    "\n",
    "print(f\"My name is {your_name}. My favorite number is {favorite_number}. The ratio I chose is {ratio}.\")\n",
    "print(\"Computation:\", favorite_number * ratio)\n"
   ]
  },
  {
   "cell_type": "markdown",
   "metadata": {
    "cell_id": "57de2410ab1b4824acb603c0fffb6beb",
    "deepnote_cell_type": "markdown"
   },
   "source": [
    "\n",
    "### Lists and Indexing\n",
    "\n",
    "A list stores an ordered collection of items.\n"
   ]
  },
  {
   "cell_type": "code",
   "execution_count": null,
   "metadata": {
    "cell_id": "c382afb9e1c84a61ae502eb11d39ffdf",
    "deepnote_cell_type": "code",
    "execution_context_id": "aa56ddcf-faa8-4e63-b586-c54e04af4329",
    "execution_millis": 1,
    "execution_start": 1760803744759,
    "source_hash": "62e0f0d9"
   },
   "outputs": [],
   "source": [
    "\n",
    "students = [\"Brianna\", \"Logan\", \"Grace\"]\n",
    "print(students)\n",
    "print(\"First element:\", students[0])\n",
    "students.append(\"Martha\")\n",
    "students.append(\"5th\")\n",
    "students.append(\"6th\")\n",
    "print(\"After append:\", students)\n",
    "print(\"Length:\", len(students))\n"
   ]
  },
  {
   "cell_type": "markdown",
   "metadata": {
    "cell_id": "7b459ebb30a04b099eba3c013dbd50e9",
    "deepnote_cell_type": "markdown"
   },
   "source": [
    "\n",
    "### Loops\n",
    "\n",
    "Loops repeat actions over a sequence.\n"
   ]
  },
  {
   "cell_type": "code",
   "execution_count": null,
   "metadata": {
    "cell_id": "0adaf68026294aeea02c4aa0ea7873d9",
    "deepnote_cell_type": "code",
    "execution_context_id": "aa56ddcf-faa8-4e63-b586-c54e04af4329",
    "execution_millis": 2,
    "execution_start": 1760803910013,
    "source_hash": "e7585af9"
   },
   "outputs": [],
   "source": [
    "\n",
    "for element in students:\n",
    "    print(\"Welcome\", element)\n"
   ]
  },
  {
   "cell_type": "markdown",
   "metadata": {
    "cell_id": "1fed7845ecb3495e93bc7674d440182c",
    "deepnote_cell_type": "markdown"
   },
   "source": [
    "\n",
    "### Conditionals\n",
    "\n",
    "Conditionals choose between paths of execution.\n"
   ]
  },
  {
   "cell_type": "code",
   "execution_count": null,
   "metadata": {
    "cell_id": "079ed8a1b4504baba46b956365de96ab",
    "deepnote_cell_type": "code",
    "execution_context_id": "aa56ddcf-faa8-4e63-b586-c54e04af4329",
    "execution_millis": 1,
    "execution_start": 1760802516999,
    "source_hash": "f5955057"
   },
   "outputs": [],
   "source": [
    "\n",
    "score = 87\n",
    "\n",
    "if score >= 90:\n",
    "    print(\"Grade A\")\n",
    "elif score >= 80:\n",
    "    print(\"Grade B\")\n",
    "else:\n",
    "    print(\"Keep improving\")\n"
   ]
  },
  {
   "cell_type": "markdown",
   "metadata": {
    "cell_id": "55471a735ea044aeb47e9cba0dc08459",
    "deepnote_cell_type": "markdown"
   },
   "source": [
    "\n",
    "### Functions\n",
    "\n",
    "A function packages reusable logic and can return a value.\n"
   ]
  },
  {
   "cell_type": "code",
   "execution_count": null,
   "metadata": {
    "cell_id": "e43688377b10404ab20186f6c1532280",
    "deepnote_cell_type": "code",
    "execution_context_id": "aa56ddcf-faa8-4e63-b586-c54e04af4329",
    "execution_millis": 0,
    "execution_start": 1760802517060,
    "source_hash": "2d913d6"
   },
   "outputs": [],
   "source": [
    "\n",
    "def letter_grade(g):\n",
    "    if g >= 90:\n",
    "        return \"A\"\n",
    "    elif g >= 80:\n",
    "        return \"B\"\n",
    "    elif g >= 70:\n",
    "        return \"C\"\n",
    "    else:\n",
    "        return \"D/F\"\n",
    "\n",
    "print(letter_grade(86))\n"
   ]
  },
  {
   "cell_type": "markdown",
   "metadata": {
    "cell_id": "b6eca3c1fd1c41ddab470890e83809e0",
    "deepnote_cell_type": "markdown"
   },
   "source": [
    "\n",
    "### Exercise B\n",
    "\n",
    "1. Write a function `square(x)` that returns the square of a number.\n",
    "2. Create a list of integers from 1 to 10 and build a new list that contains the squares of the even numbers only.\n",
    "3. Print the final list.\n"
   ]
  },
  {
   "cell_type": "code",
   "execution_count": null,
   "metadata": {
    "cell_id": "df37d4a797fc413db95043ce67ec8567",
    "deepnote_cell_type": "code",
    "execution_context_id": "aa56ddcf-faa8-4e63-b586-c54e04af4329",
    "execution_millis": 1,
    "execution_start": 1760802517109,
    "source_hash": "87365bf3"
   },
   "outputs": [],
   "source": [
    "\n",
    "# Your work for Exercise B below.\n",
    "\n",
    "def square(x):\n",
    "    return x * x\n",
    "\n",
    "nums = list(range(1, 11))\n",
    "even_squares = [square(n) for n in nums if n % 2 == 0]\n",
    "print(even_squares)\n"
   ]
  },
  {
   "cell_type": "markdown",
   "metadata": {
    "cell_id": "943245339a414ae1991232ddc3ec026c",
    "deepnote_cell_type": "markdown"
   },
   "source": [
    "\n",
    "## Simple Descriptive Statistics\n",
    "\n",
    "We will compute descriptive statistics on a small numeric list to prepare for visualization.\n"
   ]
  },
  {
   "cell_type": "code",
   "execution_count": null,
   "metadata": {
    "cell_id": "8e618372ddcf4f85958b82623bc9f164",
    "deepnote_cell_type": "code",
    "execution_context_id": "aa56ddcf-faa8-4e63-b586-c54e04af4329",
    "execution_millis": 0,
    "execution_start": 1760802517160,
    "source_hash": "53e8f55c"
   },
   "outputs": [],
   "source": [
    "\n",
    "values = [88, 92, 76, 95, 83, 90, 78, 85]\n",
    "\n",
    "avg = sum(values) / len(values)\n",
    "hi = max(values)\n",
    "lo = min(values)\n",
    "\n",
    "print(\"average:\", avg)\n",
    "print(\"highest:\", hi)\n",
    "print(\"lowest:\", lo)\n"
   ]
  },
  {
   "cell_type": "markdown",
   "metadata": {
    "cell_id": "4bd6a89a578a4106895a8cfc0c16bee0",
    "deepnote_cell_type": "markdown"
   },
   "source": [
    "\n",
    "## Visualization with Matplotlib\n",
    "\n",
    "Each chart appears after running a code cell. Use one figure per chart.\n"
   ]
  },
  {
   "cell_type": "code",
   "execution_count": null,
   "metadata": {
    "cell_id": "90ef54329dbb45fe9173c47ba2be471b",
    "deepnote_cell_type": "code",
    "execution_context_id": "aa56ddcf-faa8-4e63-b586-c54e04af4329",
    "execution_millis": 1035,
    "execution_start": 1760802517209,
    "source_hash": "3527059"
   },
   "outputs": [],
   "source": [
    "\n",
    "import matplotlib.pyplot as plt\n",
    "\n",
    "plt.figure()\n",
    "plt.plot(values, marker='o')\n",
    "plt.title(\"Example Line Plot\")\n",
    "plt.xlabel(\"Index\")\n",
    "plt.ylabel(\"Value\")\n",
    "plt.grid(True)\n",
    "plt.show()\n"
   ]
  },
  {
   "cell_type": "code",
   "execution_count": null,
   "metadata": {
    "cell_id": "c1e4c15aa9154776acf6fbc1d4e9a13f",
    "deepnote_cell_type": "code",
    "execution_context_id": "aa56ddcf-faa8-4e63-b586-c54e04af4329",
    "execution_millis": 56,
    "execution_start": 1760802518299,
    "source_hash": "bda0f6e4"
   },
   "outputs": [],
   "source": [
    "\n",
    "# Bar chart example\n",
    "categories = [\"A\",\"B\",\"C\",\"D\"]\n",
    "measurements = [4, 7, 1, 6]\n",
    "\n",
    "plt.figure()\n",
    "plt.bar(categories, measurements)\n",
    "plt.title(\"Example Bar Chart\")\n",
    "plt.xlabel(\"Category\")\n",
    "plt.ylabel(\"Measurement\")\n",
    "plt.show()\n"
   ]
  },
  {
   "cell_type": "markdown",
   "metadata": {
    "cell_id": "e82127f6129a4928a5e10d7d7ae8bf52",
    "deepnote_cell_type": "markdown"
   },
   "source": [
    "\n",
    "# Final Project: Weekly Mood Tracker Dashboard\n",
    "\n",
    "Goal\n",
    "\n",
    "1. Record a numeric mood score for each day of a week on a scale from 1 to 10.\n",
    "2. Compute summary statistics.\n",
    "3. Render a line chart that shows the pattern across the week.\n",
    "4. Save the chart image to disk and present a short written interpretation.\n",
    "5. Package the project by organizing a final section and exporting your notebook.\n"
   ]
  },
  {
   "cell_type": "markdown",
   "metadata": {
    "cell_id": "e08224331ba3452db7c51ee06855cc8c",
    "deepnote_cell_type": "markdown"
   },
   "source": [
    "\n",
    "## Step 1 Collect Data\n",
    "\n",
    "Create two lists: one for the day names and one for the mood scores. You can enter your own data or start with the template.\n"
   ]
  },
  {
   "cell_type": "code",
   "execution_count": null,
   "metadata": {
    "cell_id": "5ae50de7767c4ff78af8d66316d128d7",
    "deepnote_cell_type": "code",
    "execution_context_id": "2581cfcc-f6f8-4315-948a-f6b368ec1298",
    "execution_millis": 30410,
    "execution_start": 1760808514969,
    "source_hash": "d82b11d3"
   },
   "outputs": [],
   "source": [
    "days = [\"Mon\", \"Tue\", \"Wed\", \"Thu\", \"Fri\", \"Sat\", \"Sun\"]\n",
    "print(\"How were you feeling throughout the week?\")\n",
    "mood = []\n",
    "emotion = []\n",
    "for day in days:\n",
    "    score = int(input(f\"Enter your mood score for {day}: \"))\n",
    "    mood.append(score)\n",
    "    if score <= 3:\n",
    "        emotion.append(\"Bad\")\n",
    "    elif score <= 6:\n",
    "        emotion.append(\"Okay\")\n",
    "    elif score <= 8:\n",
    "        emotion.append(\"Good\")\n",
    "    else:\n",
    "        emotion.append(\"Great\")\n",
    "\n",
    "mood_data = list(zip(days, mood, emotion))\n",
    "print(mood_data)"
   ]
  },
  {
   "cell_type": "markdown",
   "metadata": {
    "cell_id": "a60d0a04e955427f92ae1e79607a25ce",
    "deepnote_cell_type": "markdown"
   },
   "source": [
    "\n",
    "## Step 2 Validate and Summarize\n",
    "\n",
    "Ensure the lists have the same length and the values are within the expected range.\n"
   ]
  },
  {
   "cell_type": "code",
   "execution_count": null,
   "metadata": {
    "cell_id": "d0bf1b43709242938301516a40d1815e",
    "deepnote_cell_type": "code",
    "execution_context_id": "2581cfcc-f6f8-4315-948a-f6b368ec1298",
    "execution_millis": 1,
    "execution_start": 1760808710049,
    "source_hash": "e4159d8b"
   },
   "outputs": [],
   "source": [
    "# Quick check\n",
    "print(\"Days:\", days)\n",
    "print(\"Mood:\", mood)\n",
    "print(\"Number of days:\", len(days))\n",
    "print(\"Number of mood scores:\", len(mood))\n",
    "\n",
    "# Simple summary\n",
    "average = sum(mood) / len(mood)\n",
    "highest = max(mood)\n",
    "lowest = min(mood)\n",
    "\n",
    "day_high = days[mood.index(highest)]\n",
    "day_low = days[mood.index(lowest)]\n",
    "\n",
    "print(\"Average mood:\", round(average, 2))\n",
    "print(\"Highest mood:\", highest, \"on\", day_high)\n",
    "print(\"Lowest mood:\", lowest, \"on\", day_low)"
   ]
  },
  {
   "cell_type": "markdown",
   "metadata": {
    "cell_id": "b85e9c2567ba4da09d45fdf66070203b",
    "deepnote_cell_type": "markdown"
   },
   "source": [
    "\n",
    "## Step 3 Plot the Weekly Pattern\n",
    "\n",
    "Create a line chart for mood across the week. Use a single figure for this chart.\n"
   ]
  },
  {
   "cell_type": "code",
   "execution_count": null,
   "metadata": {
    "cell_id": "8301e7a4eee84d4292dccd285e5c7752",
    "deepnote_cell_type": "code",
    "execution_context_id": "2581cfcc-f6f8-4315-948a-f6b368ec1298",
    "execution_millis": 964,
    "execution_start": 1760808770019,
    "source_hash": "46eee939"
   },
   "outputs": [],
   "source": [
    "import matplotlib.pyplot as plt\n",
    "\n",
    "plt.figure()\n",
    "plt.plot(days, mood, marker='o')\n",
    "plt.title(\"Weekly Mood Tracker\")\n",
    "plt.xlabel(\"Day of Week\")\n",
    "plt.ylabel(\"Mood 1 to 10\")\n",
    "plt.grid(True)\n",
    "plt.show()"
   ]
  },
  {
   "cell_type": "markdown",
   "metadata": {
    "cell_id": "8df736311ab44e61a63677a0ae73b3a8",
    "deepnote_cell_type": "markdown"
   },
   "source": [
    "\n",
    "## Step 4 Save the Figure\n",
    "\n",
    "Save the figure to a file so you can reference it in reports or README files.\n"
   ]
  },
  {
   "cell_type": "code",
   "execution_count": null,
   "metadata": {
    "cell_id": "a950fc924637402f8ca58554c862f422",
    "deepnote_cell_type": "code",
    "execution_context_id": "2581cfcc-f6f8-4315-948a-f6b368ec1298",
    "execution_millis": 851,
    "execution_start": 1760808843119,
    "source_hash": "30e764f1"
   },
   "outputs": [],
   "source": [
    "\n",
    "from pathlib import Path\n",
    "\n",
    "out_dir = Path(\"outputs\")\n",
    "out_dir.mkdir(parents=True, exist_ok=True)\n",
    "out_path = out_dir / \"weekly_mood.png\"\n",
    "\n",
    "plt.figure()\n",
    "plt.plot(days, mood, marker='o')\n",
    "plt.title(\"Weekly Mood Tracker\")\n",
    "plt.xlabel(\"Day of Week\")\n",
    "plt.ylabel(\"Mood 1 to 10\")\n",
    "plt.grid(True)\n",
    "plt.savefig(out_path, dpi=200)\n",
    "print(\"Saved figure to\", out_path.resolve())\n"
   ]
  },
  {
   "cell_type": "markdown",
   "metadata": {
    "cell_id": "af7f88af11504b59838d333e80d877fb",
    "deepnote_cell_type": "markdown"
   },
   "source": [
    "## Step 5 Optional Extension\n",
    "\n",
    "Choose one:\n",
    "1. Add a second week or a friend's mood list and plot it on the same chart with a legend.\n",
    "2. Mark the best day on the chart with a text label.\n"
   ]
  },
  {
   "cell_type": "code",
   "execution_count": null,
   "metadata": {
    "cell_id": "21446ed9cc8a4e8b901d6dcb15cbbb6a",
    "deepnote_cell_type": "code",
    "execution_context_id": "2581cfcc-f6f8-4315-948a-f6b368ec1298",
    "execution_millis": 229,
    "execution_start": 1760808887139,
    "source_hash": "6c418def"
   },
   "outputs": [],
   "source": [
    "# Option 1: Second series on the same chart\n",
    "days = [\"Mon\", \"Tue\", \"Wed\", \"Thu\", \"Fri\", \"Sat\", \"Sun\"]\n",
    "my_mood = mood  # reuse your mood list from above\n",
    "friend_mood = [6, 7, 7, 6, 8, 8, 9]  # example values; change if you like\n",
    "\n",
    "import matplotlib.pyplot as plt\n",
    "\n",
    "plt.figure()\n",
    "plt.plot(days, my_mood, marker='o', label=\"Me\")\n",
    "plt.plot(days, friend_mood, marker='s', label=\"Friend\")\n",
    "plt.title(\"Weekly Mood: Me vs Friend\")\n",
    "plt.xlabel(\"Day of Week\")\n",
    "plt.ylabel(\"Mood 1 to 10\")\n",
    "plt.grid(True)\n",
    "plt.legend()\n",
    "plt.show()\n",
    "\n",
    "# Option 2: Annotate the best day\n",
    "best_value = max(my_mood)\n",
    "best_day = days[my_mood.index(best_value)]\n",
    "\n",
    "plt.figure()\n",
    "plt.plot(days, my_mood, marker='o')\n",
    "plt.title(\"Weekly Mood with Best Day Labeled\")\n",
    "plt.xlabel(\"Day of Week\")\n",
    "plt.ylabel(\"Mood 1 to 10\")\n",
    "plt.grid(True)\n",
    "# Simple label slightly above the point\n",
    "idx = my_mood.index(best_value)\n",
    "plt.text(idx, best_value + 0.2, f\"Best: {best_day} ({best_value})\", ha='center')\n",
    "plt.show()"
   ]
  },
  {
   "cell_type": "markdown",
   "metadata": {
    "cell_id": "d6beb5d963d945729b365d797680894c",
    "deepnote_cell_type": "markdown"
   },
   "source": [
    "\n",
    "## Step 6 Communicate Findings\n",
    "\n",
    "Write a short narrative that explains the pattern you see and a plausible reason. Keep it concise and evidence based.\n"
   ]
  },
  {
   "cell_type": "markdown",
   "metadata": {
    "cell_id": "f9515ede68044034bf7a2c937a56e434",
    "deepnote_cell_type": "markdown"
   },
   "source": [
    "\n",
    "### Example Interpretation\n",
    "\n",
    "The average mood was 7.57. The highest mood occurred on Friday which coincided with a completed task. The lowest mood occurred on Thursday which aligned with a heavier schedule. The overall pattern suggests that workload intensity is correlated with mood level.\n"
   ]
  },
  {
   "cell_type": "markdown",
   "metadata": {
    "cell_id": "43468a3208ea4bd3a2d8c46d1468afb0",
    "deepnote_cell_type": "markdown"
   },
   "source": [
    "\n",
    "## Export and Share\n",
    "\n",
    "1. Save the notebook after completing the project.\n",
    "2. Download the notebook file for submission or version control.\n",
    "3. Optionally include the generated image from the outputs directory.\n",
    "4. Share a link if using Deepnote or push the notebook to a public repository.\n"
   ]
  },
  {
   "cell_type": "markdown",
   "metadata": {
    "cell_id": "d4ef7d27558b447cb5a000821f109d6e",
    "deepnote_cell_type": "markdown"
   },
   "source": [
    "\n",
    "## Resume Language Example\n",
    "\n",
    "Created an interactive Python notebook project that computes descriptive statistics and visualizes a weekly time series. Used core Python constructs and Matplotlib to present results and exported reproducible artifacts.\n"
   ]
  },
  {
   "cell_type": "markdown",
   "metadata": {
    "cell_id": "08ca05ec857c43bca84e9ea13d7a04f2",
    "deepnote_cell_type": "markdown"
   },
   "source": [
    "\n",
    "## Environment Check\n",
    "\n",
    "This cell confirms library versions used in the notebook for reproducibility.\n"
   ]
  },
  {
   "cell_type": "code",
   "execution_count": null,
   "metadata": {
    "cell_id": "c7b0c151bc8f407986dca081f6c0e5f5",
    "deepnote_cell_type": "code",
    "execution_context_id": "aa56ddcf-faa8-4e63-b586-c54e04af4329",
    "execution_millis": 1,
    "execution_start": 1760802519629,
    "source_hash": "fa4021f1"
   },
   "outputs": [],
   "source": [
    "\n",
    "import sys, matplotlib\n",
    "print(\"Python:\", sys.version.split()[0])\n",
    "print(\"Matplotlib:\", matplotlib.__version__)\n"
   ]
  }
 ],
 "metadata": {
  "deepnote_notebook_id": "a73e926a76f44242a34eb4af717e1302",
  "deepnote_persisted_session": {
   "createdAt": "2025-10-18T17:51:10.856Z"
  },
  "language_info": {
   "name": "python"
  }
 },
 "nbformat": "4",
 "nbformat_minor": "0"
}
